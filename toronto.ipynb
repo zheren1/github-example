{
 "cells": [
  {
   "cell_type": "markdown",
   "metadata": {},
   "source": [
    "# 1. Download data"
   ]
  },
  {
   "cell_type": "code",
   "execution_count": 1,
   "metadata": {
    "tags": []
   },
   "outputs": [
    {
     "output_type": "stream",
     "name": "stdout",
     "text": "Libraries imported.\n"
    }
   ],
   "source": [
    "# pip install beautifulsoup4\n",
    "# pip install lxml\n",
    "# pip install geopy\n",
    "\n",
    "import bs4 as bs\n",
    "import urllib.request\n",
    "import pandas as pd \n",
    "import numpy as np \n",
    "\n",
    "source = urllib.request.urlopen('https://en.wikipedia.org/wiki/List_of_postal_codes_of_Canada:_M').read()\n",
    "soup = bs.BeautifulSoup(source,'lxml')\n",
    "\n",
    "print('Libraries imported.')"
   ]
  },
  {
   "cell_type": "markdown",
   "metadata": {},
   "source": [
    "### extract data"
   ]
  },
  {
   "cell_type": "code",
   "execution_count": 2,
   "metadata": {
    "tags": []
   },
   "outputs": [
    {
     "output_type": "stream",
     "name": "stdout",
     "text": "[]\n['M1A\\n', 'Not assigned\\n', 'Not assigned\\n']\n['M2A\\n', 'Not assigned\\n', 'Not assigned\\n']\n['M3A\\n', 'North York\\n', 'Parkwoods\\n']\n['M4A\\n', 'North York\\n', 'Victoria Village\\n']\n['M5A\\n', 'Downtown Toronto\\n', 'Regent Park, Harbourfront\\n']\n['M6A\\n', 'North York\\n', 'Lawrence Manor, Lawrence Heights\\n']\n['M7A\\n', 'Downtown Toronto\\n', \"Queen's Park, Ontario Provincial Government\\n\"]\n['M8A\\n', 'Not assigned\\n', 'Not assigned\\n']\n['M9A\\n', 'Etobicoke\\n', 'Islington Avenue, Humber Valley Village\\n']\n['M1B\\n', 'Scarborough\\n', 'Malvern, Rouge\\n']\n['M2B\\n', 'Not assigned\\n', 'Not assigned\\n']\n['M3B\\n', 'North York\\n', 'Don Mills\\n']\n['M4B\\n', 'East York\\n', 'Parkview Hill, Woodbine Gardens\\n']\n['M5B\\n', 'Downtown Toronto\\n', 'Garden District, Ryerson\\n']\n['M6B\\n', 'North York\\n', 'Glencairn\\n']\n['M7B\\n', 'Not assigned\\n', 'Not assigned\\n']\n['M8B\\n', 'Not assigned\\n', 'Not assigned\\n']\n['M9B\\n', 'Etobicoke\\n', 'West Deane Park, Princess Gardens, Martin Grove, Islington, Cloverdale\\n']\n['M1C\\n', 'Scarborough\\n', 'Rouge Hill, Port Union, Highland Creek\\n']\n['M2C\\n', 'Not assigned\\n', 'Not assigned\\n']\n['M3C\\n', 'North York\\n', 'Don Mills\\n']\n['M4C\\n', 'East York\\n', 'Woodbine Heights\\n']\n['M5C\\n', 'Downtown Toronto\\n', 'St. James Town\\n']\n['M6C\\n', 'York\\n', 'Humewood-Cedarvale\\n']\n['M7C\\n', 'Not assigned\\n', 'Not assigned\\n']\n['M8C\\n', 'Not assigned\\n', 'Not assigned\\n']\n['M9C\\n', 'Etobicoke\\n', 'Eringate, Bloordale Gardens, Old Burnhamthorpe, Markland Wood\\n']\n['M1E\\n', 'Scarborough\\n', 'Guildwood, Morningside, West Hill\\n']\n['M2E\\n', 'Not assigned\\n', 'Not assigned\\n']\n['M3E\\n', 'Not assigned\\n', 'Not assigned\\n']\n['M4E\\n', 'East Toronto\\n', 'The Beaches\\n']\n['M5E\\n', 'Downtown Toronto\\n', 'Berczy Park\\n']\n['M6E\\n', 'York\\n', 'Caledonia-Fairbanks\\n']\n['M7E\\n', 'Not assigned\\n', 'Not assigned\\n']\n['M8E\\n', 'Not assigned\\n', 'Not assigned\\n']\n['M9E\\n', 'Not assigned\\n', 'Not assigned\\n']\n['M1G\\n', 'Scarborough\\n', 'Woburn\\n']\n['M2G\\n', 'Not assigned\\n', 'Not assigned\\n']\n['M3G\\n', 'Not assigned\\n', 'Not assigned\\n']\n['M4G\\n', 'East York\\n', 'Leaside\\n']\n['M5G\\n', 'Downtown Toronto\\n', 'Central Bay Street\\n']\n['M6G\\n', 'Downtown Toronto\\n', 'Christie\\n']\n['M7G\\n', 'Not assigned\\n', 'Not assigned\\n']\n['M8G\\n', 'Not assigned\\n', 'Not assigned\\n']\n['M9G\\n', 'Not assigned\\n', 'Not assigned\\n']\n['M1H\\n', 'Scarborough\\n', 'Cedarbrae\\n']\n['M2H\\n', 'North York\\n', 'Hillcrest Village\\n']\n['M3H\\n', 'North York\\n', 'Bathurst Manor, Wilson Heights, Downsview North\\n']\n['M4H\\n', 'East York\\n', 'Thorncliffe Park\\n']\n['M5H\\n', 'Downtown Toronto\\n', 'Richmond, Adelaide, King\\n']\n['M6H\\n', 'West Toronto\\n', 'Dufferin, Dovercourt Village\\n']\n['M7H\\n', 'Not assigned\\n', 'Not assigned\\n']\n['M8H\\n', 'Not assigned\\n', 'Not assigned\\n']\n['M9H\\n', 'Not assigned\\n', 'Not assigned\\n']\n['M1J\\n', 'Scarborough\\n', 'Scarborough Village\\n']\n['M2J\\n', 'North York\\n', 'Fairview, Henry Farm, Oriole\\n']\n['M3J\\n', 'North York\\n', 'Northwood Park, York University\\n']\n['M4J\\n', 'East York\\n', 'East Toronto, Broadview North (Old East York)\\n']\n['M5J\\n', 'Downtown Toronto\\n', 'Harbourfront East, Union Station, Toronto Islands\\n']\n['M6J\\n', 'West Toronto\\n', 'Little Portugal, Trinity\\n']\n['M7J\\n', 'Not assigned\\n', 'Not assigned\\n']\n['M8J\\n', 'Not assigned\\n', 'Not assigned\\n']\n['M9J\\n', 'Not assigned\\n', 'Not assigned\\n']\n['M1K\\n', 'Scarborough\\n', 'Kennedy Park, Ionview, East Birchmount Park\\n']\n['M2K\\n', 'North York\\n', 'Bayview Village\\n']\n['M3K\\n', 'North York\\n', 'Downsview\\n']\n['M4K\\n', 'East Toronto\\n', 'The Danforth West, Riverdale\\n']\n['M5K\\n', 'Downtown Toronto\\n', 'Toronto Dominion Centre, Design Exchange\\n']\n['M6K\\n', 'West Toronto\\n', 'Brockton, Parkdale Village, Exhibition Place\\n']\n['M7K\\n', 'Not assigned\\n', 'Not assigned\\n']\n['M8K\\n', 'Not assigned\\n', 'Not assigned\\n']\n['M9K\\n', 'Not assigned\\n', 'Not assigned\\n']\n['M1L\\n', 'Scarborough\\n', 'Golden Mile, Clairlea, Oakridge\\n']\n['M2L\\n', 'North York\\n', 'York Mills, Silver Hills\\n']\n['M3L\\n', 'North York\\n', 'Downsview\\n']\n['M4L\\n', 'East Toronto\\n', 'India Bazaar, The Beaches West\\n']\n['M5L\\n', 'Downtown Toronto\\n', 'Commerce Court, Victoria Hotel\\n']\n['M6L\\n', 'North York\\n', 'North Park, Maple Leaf Park, Upwood Park\\n']\n['M7L\\n', 'Not assigned\\n', 'Not assigned\\n']\n['M8L\\n', 'Not assigned\\n', 'Not assigned\\n']\n['M9L\\n', 'North York\\n', 'Humber Summit\\n']\n['M1M\\n', 'Scarborough\\n', 'Cliffside, Cliffcrest, Scarborough Village West\\n']\n['M2M\\n', 'North York\\n', 'Willowdale, Newtonbrook\\n']\n['M3M\\n', 'North York\\n', 'Downsview\\n']\n['M4M\\n', 'East Toronto\\n', 'Studio District\\n']\n['M5M\\n', 'North York\\n', 'Bedford Park, Lawrence Manor East\\n']\n['M6M\\n', 'York\\n', 'Del Ray, Mount Dennis, Keelsdale and Silverthorn\\n']\n['M7M\\n', 'Not assigned\\n', 'Not assigned\\n']\n['M8M\\n', 'Not assigned\\n', 'Not assigned\\n']\n['M9M\\n', 'North York\\n', 'Humberlea, Emery\\n']\n['M1N\\n', 'Scarborough\\n', 'Birch Cliff, Cliffside West\\n']\n['M2N\\n', 'North York\\n', 'Willowdale, Willowdale East\\n']\n['M3N\\n', 'North York\\n', 'Downsview\\n']\n['M4N\\n', 'Central Toronto\\n', 'Lawrence Park\\n']\n['M5N\\n', 'Central Toronto\\n', 'Roselawn\\n']\n['M6N\\n', 'York\\n', 'Runnymede, The Junction North\\n']\n['M7N\\n', 'Not assigned\\n', 'Not assigned\\n']\n['M8N\\n', 'Not assigned\\n', 'Not assigned\\n']\n['M9N\\n', 'York\\n', 'Weston\\n']\n['M1P\\n', 'Scarborough\\n', 'Dorset Park, Wexford Heights, Scarborough Town Centre\\n']\n['M2P\\n', 'North York\\n', 'York Mills West\\n']\n['M3P\\n', 'Not assigned\\n', 'Not assigned\\n']\n['M4P\\n', 'Central Toronto\\n', 'Davisville North\\n']\n['M5P\\n', 'Central Toronto\\n', 'Forest Hill North & West, Forest Hill Road Park\\n']\n['M6P\\n', 'West Toronto\\n', 'High Park, The Junction South\\n']\n['M7P\\n', 'Not assigned\\n', 'Not assigned\\n']\n['M8P\\n', 'Not assigned\\n', 'Not assigned\\n']\n['M9P\\n', 'Etobicoke\\n', 'Westmount\\n']\n['M1R\\n', 'Scarborough\\n', 'Wexford, Maryvale\\n']\n['M2R\\n', 'North York\\n', 'Willowdale, Willowdale West\\n']\n['M3R\\n', 'Not assigned\\n', 'Not assigned\\n']\n['M4R\\n', 'Central Toronto\\n', 'North Toronto West,  Lawrence Park\\n']\n['M5R\\n', 'Central Toronto\\n', 'The Annex, North Midtown, Yorkville\\n']\n['M6R\\n', 'West Toronto\\n', 'Parkdale, Roncesvalles\\n']\n['M7R\\n', 'Mississauga\\n', 'Canada Post Gateway Processing Centre\\n']\n['M8R\\n', 'Not assigned\\n', 'Not assigned\\n']\n['M9R\\n', 'Etobicoke\\n', 'Kingsview Village, St. Phillips, Martin Grove Gardens, Richview Gardens\\n']\n['M1S\\n', 'Scarborough\\n', 'Agincourt\\n']\n['M2S\\n', 'Not assigned\\n', 'Not assigned\\n']\n['M3S\\n', 'Not assigned\\n', 'Not assigned\\n']\n['M4S\\n', 'Central Toronto\\n', 'Davisville\\n']\n['M5S\\n', 'Downtown Toronto\\n', 'University of Toronto, Harbord\\n']\n['M6S\\n', 'West Toronto\\n', 'Runnymede, Swansea\\n']\n['M7S\\n', 'Not assigned\\n', 'Not assigned\\n']\n['M8S\\n', 'Not assigned\\n', 'Not assigned\\n']\n['M9S\\n', 'Not assigned\\n', 'Not assigned\\n']\n['M1T\\n', 'Scarborough\\n', \"Clarks Corners, Tam O'Shanter, Sullivan\\n\"]\n['M2T\\n', 'Not assigned\\n', 'Not assigned\\n']\n['M3T\\n', 'Not assigned\\n', 'Not assigned\\n']\n['M4T\\n', 'Central Toronto\\n', 'Moore Park, Summerhill East\\n']\n['M5T\\n', 'Downtown Toronto\\n', 'Kensington Market, Chinatown, Grange Park\\n']\n['M6T\\n', 'Not assigned\\n', 'Not assigned\\n']\n['M7T\\n', 'Not assigned\\n', 'Not assigned\\n']\n['M8T\\n', 'Not assigned\\n', 'Not assigned\\n']\n['M9T\\n', 'Not assigned\\n', 'Not assigned\\n']\n['M1V\\n', 'Scarborough\\n', \"Milliken, Agincourt North, Steeles East, L'Amoreaux East\\n\"]\n['M2V\\n', 'Not assigned\\n', 'Not assigned\\n']\n['M3V\\n', 'Not assigned\\n', 'Not assigned\\n']\n['M4V\\n', 'Central Toronto\\n', 'Summerhill West, Rathnelly, South Hill, Forest Hill SE, Deer Park\\n']\n['M5V\\n', 'Downtown Toronto\\n', 'CN Tower, King and Spadina, Railway Lands, Harbourfront West, Bathurst Quay, South Niagara, Island airport\\n']\n['M6V\\n', 'Not assigned\\n', 'Not assigned\\n']\n['M7V\\n', 'Not assigned\\n', 'Not assigned\\n']\n['M8V\\n', 'Etobicoke\\n', 'New Toronto, Mimico South, Humber Bay Shores\\n']\n['M9V\\n', 'Etobicoke\\n', 'South Steeles, Silverstone, Humbergate, Jamestown, Mount Olive, Beaumond Heights, Thistletown, Albion Gardens\\n']\n['M1W\\n', 'Scarborough\\n', \"Steeles West, L'Amoreaux West\\n\"]\n['M2W\\n', 'Not assigned\\n', 'Not assigned\\n']\n['M3W\\n', 'Not assigned\\n', 'Not assigned\\n']\n['M4W\\n', 'Downtown Toronto\\n', 'Rosedale\\n']\n['M5W\\n', 'Downtown Toronto\\n', 'Stn A PO Boxes\\n']\n['M6W\\n', 'Not assigned\\n', 'Not assigned\\n']\n['M7W\\n', 'Not assigned\\n', 'Not assigned\\n']\n['M8W\\n', 'Etobicoke\\n', 'Alderwood, Long Branch\\n']\n['M9W\\n', 'Etobicoke\\n', 'Northwest, West Humber - Clairville\\n']\n['M1X\\n', 'Scarborough\\n', 'Upper Rouge\\n']\n['M2X\\n', 'Not assigned\\n', 'Not assigned\\n']\n['M3X\\n', 'Not assigned\\n', 'Not assigned\\n']\n['M4X\\n', 'Downtown Toronto\\n', 'St. James Town, Cabbagetown\\n']\n['M5X\\n', 'Downtown Toronto\\n', 'First Canadian Place, Underground city\\n']\n['M6X\\n', 'Not assigned\\n', 'Not assigned\\n']\n['M7X\\n', 'Not assigned\\n', 'Not assigned\\n']\n['M8X\\n', 'Etobicoke\\n', 'The Kingsway, Montgomery Road, Old Mill North\\n']\n['M9X\\n', 'Not assigned\\n', 'Not assigned\\n']\n['M1Y\\n', 'Not assigned\\n', 'Not assigned\\n']\n['M2Y\\n', 'Not assigned\\n', 'Not assigned\\n']\n['M3Y\\n', 'Not assigned\\n', 'Not assigned\\n']\n['M4Y\\n', 'Downtown Toronto\\n', 'Church and Wellesley\\n']\n['M5Y\\n', 'Not assigned\\n', 'Not assigned\\n']\n['M6Y\\n', 'Not assigned\\n', 'Not assigned\\n']\n['M7Y\\n', 'East Toronto\\n', 'Business reply mail Processing Centre, South Central Letter Processing Plant Toronto\\n']\n['M8Y\\n', 'Etobicoke\\n', \"Old Mill South, King's Mill Park, Sunnylea, Humber Bay, Mimico NE, The Queensway East, Royal York South East, Kingsway Park South East\\n\"]\n['M9Y\\n', 'Not assigned\\n', 'Not assigned\\n']\n['M1Z\\n', 'Not assigned\\n', 'Not assigned\\n']\n['M2Z\\n', 'Not assigned\\n', 'Not assigned\\n']\n['M3Z\\n', 'Not assigned\\n', 'Not assigned\\n']\n['M4Z\\n', 'Not assigned\\n', 'Not assigned\\n']\n['M5Z\\n', 'Not assigned\\n', 'Not assigned\\n']\n['M6Z\\n', 'Not assigned\\n', 'Not assigned\\n']\n['M7Z\\n', 'Not assigned\\n', 'Not assigned\\n']\n['M8Z\\n', 'Etobicoke\\n', 'Mimico NW, The Queensway West, South of Bloor, Kingsway Park South West, Royal York South West\\n']\n['M9Z\\n', 'Not assigned\\n', 'Not assigned\\n']\n    Postal Code           Borough  \\\n0           M1A      Not assigned   \n1           M2A      Not assigned   \n2           M3A        North York   \n3           M4A        North York   \n4           M5A  Downtown Toronto   \n..          ...               ...   \n175         M5Z      Not assigned   \n176         M6Z      Not assigned   \n177         M7Z      Not assigned   \n178         M8Z         Etobicoke   \n179         M9Z      Not assigned   \n\n                                          Neighborhood  \n0                                         Not assigned  \n1                                         Not assigned  \n2                                            Parkwoods  \n3                                     Victoria Village  \n4                            Regent Park, Harbourfront  \n..                                                 ...  \n175                                       Not assigned  \n176                                       Not assigned  \n177                                       Not assigned  \n178  Mimico NW, The Queensway West, South of Bloor,...  \n179                                       Not assigned  \n\n[180 rows x 3 columns]\n                                          Unnamed: 0  \\\n0  NL NS PE NB QC ON MB SK AB BC NU/NT YT A B C E...   \n1                                                 NL   \n2                                                  A   \n\n                               Canadian postal codes  \\\n0  NL NS PE NB QC ON MB SK AB BC NU/NT YT A B C E...   \n1                                                 NS   \n2                                                  B   \n\n                                          Unnamed: 2 Unnamed: 3 Unnamed: 4  \\\n0  NL NS PE NB QC ON MB SK AB BC NU/NT YT A B C E...        NaN        NaN   \n1                                                 PE         NB         QC   \n2                                                  C          E          G   \n\n  Unnamed: 5 Unnamed: 6 Unnamed: 7 Unnamed: 8 Unnamed: 9 Unnamed: 10  \\\n0        NaN        NaN        NaN        NaN        NaN         NaN   \n1         QC         QC         ON         ON         ON          ON   \n2          H          J          K          L          M           N   \n\n  Unnamed: 11 Unnamed: 12 Unnamed: 13 Unnamed: 14 Unnamed: 15 Unnamed: 16  \\\n0         NaN         NaN         NaN         NaN         NaN         NaN   \n1          ON          MB          SK          AB          BC       NU/NT   \n2           P           R           S           T           V           X   \n\n  Unnamed: 17  \n0         NaN  \n1          YT  \n2           Y  \n  NL NS PE NB QC QC.1 QC.2 ON ON.1 ON.2 ON.3 ON.4 MB SK AB BC NU/NT YT\n0  A  B  C  E  G    H    J  K    L    M    N    P  R  S  T  V     X  Y\n"
    }
   ],
   "source": [
    "table = soup.find('table')\n",
    "table_rows = table.find_all('tr')\n",
    "for tr in table_rows:\n",
    "    td = tr.find_all('td')\n",
    "    row = [i.text for i in td]\n",
    "    print(row)\n",
    "\n",
    "import pandas as pd\n",
    "\n",
    "dfs = pd.read_html('https://en.wikipedia.org/wiki/List_of_postal_codes_of_Canada:_M',header=0)\n",
    "for df in dfs:\n",
    "    print(df)\n"
   ]
  },
  {
   "cell_type": "markdown",
   "metadata": {},
   "source": [
    "### Ignore cells with a borough that is Not assigned; More than one neighborhood can exist in one postal code area"
   ]
  },
  {
   "cell_type": "code",
   "execution_count": 3,
   "metadata": {},
   "outputs": [
    {
     "output_type": "execute_result",
     "data": {
      "text/plain": "<pandas.core.groupby.generic.DataFrameGroupBy object at 0x7fe49c0e73d0>"
     },
     "metadata": {},
     "execution_count": 3
    }
   ],
   "source": [
    "dft = dfs[0]\n",
    "dft2 = dft[~dft.Borough.str.contains(\"Not assigned\")]\n",
    "dft2 = dft2.rename(columns = {'Postal Code':'PostalCode'}).reset_index(drop=True)\n",
    "dft2.groupby('PostalCode')"
   ]
  },
  {
   "cell_type": "markdown",
   "metadata": {},
   "source": [
    "### If a cell has a borough but a Not assigned neighborhood, then the neighborhood will be the same as the borough."
   ]
  },
  {
   "cell_type": "code",
   "execution_count": 4,
   "metadata": {},
   "outputs": [
    {
     "output_type": "execute_result",
     "data": {
      "text/plain": "  PostalCode           Borough                                 Neighborhood\n0        M3A        North York                                    Parkwoods\n1        M4A        North York                             Victoria Village\n2        M5A  Downtown Toronto                    Regent Park, Harbourfront\n3        M6A        North York             Lawrence Manor, Lawrence Heights\n4        M7A  Downtown Toronto  Queen's Park, Ontario Provincial Government",
      "text/html": "<div>\n<style scoped>\n    .dataframe tbody tr th:only-of-type {\n        vertical-align: middle;\n    }\n\n    .dataframe tbody tr th {\n        vertical-align: top;\n    }\n\n    .dataframe thead th {\n        text-align: right;\n    }\n</style>\n<table border=\"1\" class=\"dataframe\">\n  <thead>\n    <tr style=\"text-align: right;\">\n      <th></th>\n      <th>PostalCode</th>\n      <th>Borough</th>\n      <th>Neighborhood</th>\n    </tr>\n  </thead>\n  <tbody>\n    <tr>\n      <th>0</th>\n      <td>M3A</td>\n      <td>North York</td>\n      <td>Parkwoods</td>\n    </tr>\n    <tr>\n      <th>1</th>\n      <td>M4A</td>\n      <td>North York</td>\n      <td>Victoria Village</td>\n    </tr>\n    <tr>\n      <th>2</th>\n      <td>M5A</td>\n      <td>Downtown Toronto</td>\n      <td>Regent Park, Harbourfront</td>\n    </tr>\n    <tr>\n      <th>3</th>\n      <td>M6A</td>\n      <td>North York</td>\n      <td>Lawrence Manor, Lawrence Heights</td>\n    </tr>\n    <tr>\n      <th>4</th>\n      <td>M7A</td>\n      <td>Downtown Toronto</td>\n      <td>Queen's Park, Ontario Provincial Government</td>\n    </tr>\n  </tbody>\n</table>\n</div>"
     },
     "metadata": {},
     "execution_count": 4
    }
   ],
   "source": [
    "mask = dft2['Neighborhood'] == \"Not assigned\"\n",
    "dft2.loc[mask, 'Neighborhood'] = dft2.loc[mask, 'Borough']\n",
    "dft2.head()"
   ]
  },
  {
   "cell_type": "code",
   "execution_count": 5,
   "metadata": {},
   "outputs": [
    {
     "output_type": "execute_result",
     "data": {
      "text/plain": "(103, 3)"
     },
     "metadata": {},
     "execution_count": 5
    }
   ],
   "source": [
    "dft2.shape"
   ]
  },
  {
   "cell_type": "markdown",
   "metadata": {},
   "source": [
    "# Using the .csv file to join the geospatial data to the PostalCode file"
   ]
  },
  {
   "cell_type": "code",
   "execution_count": 6,
   "metadata": {},
   "outputs": [
    {
     "output_type": "execute_result",
     "data": {
      "text/plain": "  PostalCode   Latitude  Longitude\n0        M1B  43.806686 -79.194353\n1        M1C  43.784535 -79.160497\n2        M1E  43.763573 -79.188711\n3        M1G  43.770992 -79.216917\n4        M1H  43.773136 -79.239476",
      "text/html": "<div>\n<style scoped>\n    .dataframe tbody tr th:only-of-type {\n        vertical-align: middle;\n    }\n\n    .dataframe tbody tr th {\n        vertical-align: top;\n    }\n\n    .dataframe thead th {\n        text-align: right;\n    }\n</style>\n<table border=\"1\" class=\"dataframe\">\n  <thead>\n    <tr style=\"text-align: right;\">\n      <th></th>\n      <th>PostalCode</th>\n      <th>Latitude</th>\n      <th>Longitude</th>\n    </tr>\n  </thead>\n  <tbody>\n    <tr>\n      <th>0</th>\n      <td>M1B</td>\n      <td>43.806686</td>\n      <td>-79.194353</td>\n    </tr>\n    <tr>\n      <th>1</th>\n      <td>M1C</td>\n      <td>43.784535</td>\n      <td>-79.160497</td>\n    </tr>\n    <tr>\n      <th>2</th>\n      <td>M1E</td>\n      <td>43.763573</td>\n      <td>-79.188711</td>\n    </tr>\n    <tr>\n      <th>3</th>\n      <td>M1G</td>\n      <td>43.770992</td>\n      <td>-79.216917</td>\n    </tr>\n    <tr>\n      <th>4</th>\n      <td>M1H</td>\n      <td>43.773136</td>\n      <td>-79.239476</td>\n    </tr>\n  </tbody>\n</table>\n</div>"
     },
     "metadata": {},
     "execution_count": 6
    }
   ],
   "source": [
    "gis = pd.read_csv(\"http://cocl.us/Geospatial_data\")\n",
    "gis = gis.rename(columns = {'Postal Code':'PostalCode'}).reset_index(drop=True)\n",
    "gis.head()"
   ]
  },
  {
   "cell_type": "code",
   "execution_count": 7,
   "metadata": {},
   "outputs": [],
   "source": [
    "dfn = pd.merge(dft2,gis)"
   ]
  },
  {
   "cell_type": "code",
   "execution_count": 8,
   "metadata": {},
   "outputs": [
    {
     "output_type": "execute_result",
     "data": {
      "text/plain": "  PostalCode           Borough                                 Neighborhood  \\\n0        M3A        North York                                    Parkwoods   \n1        M4A        North York                             Victoria Village   \n2        M5A  Downtown Toronto                    Regent Park, Harbourfront   \n3        M6A        North York             Lawrence Manor, Lawrence Heights   \n4        M7A  Downtown Toronto  Queen's Park, Ontario Provincial Government   \n\n    Latitude  Longitude  \n0  43.753259 -79.329656  \n1  43.725882 -79.315572  \n2  43.654260 -79.360636  \n3  43.718518 -79.464763  \n4  43.662301 -79.389494  ",
      "text/html": "<div>\n<style scoped>\n    .dataframe tbody tr th:only-of-type {\n        vertical-align: middle;\n    }\n\n    .dataframe tbody tr th {\n        vertical-align: top;\n    }\n\n    .dataframe thead th {\n        text-align: right;\n    }\n</style>\n<table border=\"1\" class=\"dataframe\">\n  <thead>\n    <tr style=\"text-align: right;\">\n      <th></th>\n      <th>PostalCode</th>\n      <th>Borough</th>\n      <th>Neighborhood</th>\n      <th>Latitude</th>\n      <th>Longitude</th>\n    </tr>\n  </thead>\n  <tbody>\n    <tr>\n      <th>0</th>\n      <td>M3A</td>\n      <td>North York</td>\n      <td>Parkwoods</td>\n      <td>43.753259</td>\n      <td>-79.329656</td>\n    </tr>\n    <tr>\n      <th>1</th>\n      <td>M4A</td>\n      <td>North York</td>\n      <td>Victoria Village</td>\n      <td>43.725882</td>\n      <td>-79.315572</td>\n    </tr>\n    <tr>\n      <th>2</th>\n      <td>M5A</td>\n      <td>Downtown Toronto</td>\n      <td>Regent Park, Harbourfront</td>\n      <td>43.654260</td>\n      <td>-79.360636</td>\n    </tr>\n    <tr>\n      <th>3</th>\n      <td>M6A</td>\n      <td>North York</td>\n      <td>Lawrence Manor, Lawrence Heights</td>\n      <td>43.718518</td>\n      <td>-79.464763</td>\n    </tr>\n    <tr>\n      <th>4</th>\n      <td>M7A</td>\n      <td>Downtown Toronto</td>\n      <td>Queen's Park, Ontario Provincial Government</td>\n      <td>43.662301</td>\n      <td>-79.389494</td>\n    </tr>\n  </tbody>\n</table>\n</div>"
     },
     "metadata": {},
     "execution_count": 8
    }
   ],
   "source": [
    "dfn.head()"
   ]
  },
  {
   "cell_type": "code",
   "execution_count": null,
   "metadata": {},
   "outputs": [],
   "source": []
  }
 ],
 "metadata": {
  "language_info": {
   "codemirror_mode": {
    "name": "ipython",
    "version": 3
   },
   "file_extension": ".py",
   "mimetype": "text/x-python",
   "name": "python",
   "nbconvert_exporter": "python",
   "pygments_lexer": "ipython3",
   "version": 3
  },
  "orig_nbformat": 2,
  "kernelspec": {
   "name": "python_defaultSpec_1594368154149",
   "display_name": "Python 3.8.4 64-bit"
  }
 },
 "nbformat": 4,
 "nbformat_minor": 2
}