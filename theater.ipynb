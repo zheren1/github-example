{
 "cells": [
  {
   "cell_type": "markdown",
   "metadata": {},
   "source": [
    "# New theater location selection in NYC"
   ]
  },
  {
   "cell_type": "markdown",
   "metadata": {},
   "source": [
    "## INTRODUCTION\n",
    "\n",
    "## This project would like to investigate the potential location of an invested theater location in NYC. In order to obtain the potential places, the clustering technique will be applied to rank venues especially to discover where the theaters have been located. Finally choosing the ranking no. 1 venues as the aiming location. "
   ]
  },
  {
   "cell_type": "markdown",
   "metadata": {},
   "source": [
    "## Data\n",
    "\n",
    "## The Foursquare location data will be applied to complete the \"New theater location selection in NYC\" project. The Manhattan county will be the target town and be explored from the Foursquare developer website. The data were chosen because 1) the convenience to obtain the data and 2) updated and precise venue information could be received. For example, the regular search with Foursquare can be used  to explore Manhattan, NY."
   ]
  },
  {
   "cell_type": "code",
   "execution_count": null,
   "metadata": {},
   "outputs": [],
   "source": []
  }
 ],
 "metadata": {
  "language_info": {
   "codemirror_mode": {
    "name": "ipython",
    "version": 3
   },
   "file_extension": ".py",
   "mimetype": "text/x-python",
   "name": "python",
   "nbconvert_exporter": "python",
   "pygments_lexer": "ipython3",
   "version": 3
  },
  "orig_nbformat": 2
 },
 "nbformat": 4,
 "nbformat_minor": 2
}